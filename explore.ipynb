{
 "cells": [
  {
   "cell_type": "code",
   "execution_count": 3,
   "metadata": {},
   "outputs": [],
   "source": [
    "import mujoco\n",
    "from mujoco import mjx\n",
    "import brax"
   ]
  },
  {
   "cell_type": "code",
   "execution_count": 4,
   "metadata": {},
   "outputs": [],
   "source": [
    "mj_model = mujoco.MjModel.from_xml_path(\"stompy.xml\")"
   ]
  },
  {
   "cell_type": "code",
   "execution_count": 7,
   "metadata": {},
   "outputs": [
    {
     "name": "stderr",
     "output_type": "stream",
     "text": [
      "/Users/charleszhang/miniforge3/envs/rl/lib/python3.11/site-packages/mujoco/mjx/_src/mesh.py:207: UserWarning: Mesh \"torso_1_top_torso_1\" has a coplanar face with more than 20 vertices. This may lead to performance issues and inaccuracies in collision detection. Consider decimating the mesh.\n",
      "  warnings.warn(\n",
      "/Users/charleszhang/miniforge3/envs/rl/lib/python3.11/site-packages/mujoco/mjx/_src/mesh.py:207: UserWarning: Mesh \"head_1_x4_1_pcb_1\" has a coplanar face with more than 20 vertices. This may lead to performance issues and inaccuracies in collision detection. Consider decimating the mesh.\n",
      "  warnings.warn(\n",
      "/Users/charleszhang/miniforge3/envs/rl/lib/python3.11/site-packages/mujoco/mjx/_src/mesh.py:207: UserWarning: Mesh \"head_1_x4_1_outer_1\" has a coplanar face with more than 20 vertices. This may lead to performance issues and inaccuracies in collision detection. Consider decimating the mesh.\n",
      "  warnings.warn(\n",
      "/Users/charleszhang/miniforge3/envs/rl/lib/python3.11/site-packages/mujoco/mjx/_src/mesh.py:207: UserWarning: Mesh \"right_arm_1_x8_1_outer_1\" has a coplanar face with more than 20 vertices. This may lead to performance issues and inaccuracies in collision detection. Consider decimating the mesh.\n",
      "  warnings.warn(\n",
      "/Users/charleszhang/miniforge3/envs/rl/lib/python3.11/site-packages/mujoco/mjx/_src/mesh.py:207: UserWarning: Mesh \"right_arm_1_x8_1_pcb_1\" has a coplanar face with more than 20 vertices. This may lead to performance issues and inaccuracies in collision detection. Consider decimating the mesh.\n",
      "  warnings.warn(\n",
      "/Users/charleszhang/miniforge3/envs/rl/lib/python3.11/site-packages/mujoco/mjx/_src/mesh.py:207: UserWarning: Mesh \"left_arm_2_x8_1_outer_1\" has a coplanar face with more than 20 vertices. This may lead to performance issues and inaccuracies in collision detection. Consider decimating the mesh.\n",
      "  warnings.warn(\n",
      "/Users/charleszhang/miniforge3/envs/rl/lib/python3.11/site-packages/mujoco/mjx/_src/mesh.py:207: UserWarning: Mesh \"torso_1_bottom_torso_1\" has a coplanar face with more than 20 vertices. This may lead to performance issues and inaccuracies in collision detection. Consider decimating the mesh.\n",
      "  warnings.warn(\n",
      "/Users/charleszhang/miniforge3/envs/rl/lib/python3.11/site-packages/mujoco/mjx/_src/mesh.py:207: UserWarning: Mesh \"torso_1_bottom_back_1\" has a coplanar face with more than 20 vertices. This may lead to performance issues and inaccuracies in collision detection. Consider decimating the mesh.\n",
      "  warnings.warn(\n",
      "/Users/charleszhang/miniforge3/envs/rl/lib/python3.11/site-packages/mujoco/mjx/_src/mesh.py:207: UserWarning: Mesh \"torso_1_top_back_1\" has a coplanar face with more than 20 vertices. This may lead to performance issues and inaccuracies in collision detection. Consider decimating the mesh.\n",
      "  warnings.warn(\n",
      "/Users/charleszhang/miniforge3/envs/rl/lib/python3.11/site-packages/mujoco/mjx/_src/mesh.py:207: UserWarning: Mesh \"torso_1_battery_mount_1\" has a coplanar face with more than 20 vertices. This may lead to performance issues and inaccuracies in collision detection. Consider decimating the mesh.\n",
      "  warnings.warn(\n",
      "/Users/charleszhang/miniforge3/envs/rl/lib/python3.11/site-packages/mujoco/mjx/_src/mesh.py:207: UserWarning: Mesh \"torso_1_battery_1\" has a coplanar face with more than 20 vertices. This may lead to performance issues and inaccuracies in collision detection. Consider decimating the mesh.\n",
      "  warnings.warn(\n",
      "/Users/charleszhang/miniforge3/envs/rl/lib/python3.11/site-packages/mujoco/mjx/_src/mesh.py:207: UserWarning: Mesh \"head_1_x4_1_inner_1\" has a coplanar face with more than 20 vertices. This may lead to performance issues and inaccuracies in collision detection. Consider decimating the mesh.\n",
      "  warnings.warn(\n",
      "/Users/charleszhang/miniforge3/envs/rl/lib/python3.11/site-packages/mujoco/mjx/_src/mesh.py:207: UserWarning: Mesh \"head_1_neck_1\" has a coplanar face with more than 20 vertices. This may lead to performance issues and inaccuracies in collision detection. Consider decimating the mesh.\n",
      "  warnings.warn(\n",
      "/Users/charleszhang/miniforge3/envs/rl/lib/python3.11/site-packages/mujoco/mjx/_src/mesh.py:207: UserWarning: Mesh \"head_1_x4_2_pcb_1\" has a coplanar face with more than 20 vertices. This may lead to performance issues and inaccuracies in collision detection. Consider decimating the mesh.\n",
      "  warnings.warn(\n",
      "/Users/charleszhang/miniforge3/envs/rl/lib/python3.11/site-packages/mujoco/mjx/_src/mesh.py:207: UserWarning: Mesh \"head_1_head_1\" has a coplanar face with more than 20 vertices. This may lead to performance issues and inaccuracies in collision detection. Consider decimating the mesh.\n",
      "  warnings.warn(\n",
      "/Users/charleszhang/miniforge3/envs/rl/lib/python3.11/site-packages/mujoco/mjx/_src/mesh.py:207: UserWarning: Mesh \"head_1_eye_1\" has a coplanar face with more than 20 vertices. This may lead to performance issues and inaccuracies in collision detection. Consider decimating the mesh.\n",
      "  warnings.warn(\n",
      "/Users/charleszhang/miniforge3/envs/rl/lib/python3.11/site-packages/mujoco/mjx/_src/mesh.py:207: UserWarning: Mesh \"torso_1_x8_1_inner_1\" has a coplanar face with more than 20 vertices. This may lead to performance issues and inaccuracies in collision detection. Consider decimating the mesh.\n",
      "  warnings.warn(\n",
      "/Users/charleszhang/miniforge3/envs/rl/lib/python3.11/site-packages/mujoco/mjx/_src/mesh.py:207: UserWarning: Mesh \"legs_1_hips_1\" has a coplanar face with more than 20 vertices. This may lead to performance issues and inaccuracies in collision detection. Consider decimating the mesh.\n",
      "  warnings.warn(\n",
      "/Users/charleszhang/miniforge3/envs/rl/lib/python3.11/site-packages/mujoco/mjx/_src/mesh.py:207: UserWarning: Mesh \"legs_1_x8_1_outer_1\" has a coplanar face with more than 20 vertices. This may lead to performance issues and inaccuracies in collision detection. Consider decimating the mesh.\n",
      "  warnings.warn(\n",
      "/Users/charleszhang/miniforge3/envs/rl/lib/python3.11/site-packages/mujoco/mjx/_src/mesh.py:207: UserWarning: Mesh \"legs_1_x8_2_outer_1\" has a coplanar face with more than 20 vertices. This may lead to performance issues and inaccuracies in collision detection. Consider decimating the mesh.\n",
      "  warnings.warn(\n",
      "/Users/charleszhang/miniforge3/envs/rl/lib/python3.11/site-packages/mujoco/mjx/_src/mesh.py:207: UserWarning: Mesh \"legs_1_right_leg_1_hip_rotate_1\" has a coplanar face with more than 20 vertices. This may lead to performance issues and inaccuracies in collision detection. Consider decimating the mesh.\n",
      "  warnings.warn(\n",
      "/Users/charleszhang/miniforge3/envs/rl/lib/python3.11/site-packages/mujoco/mjx/_src/mesh.py:207: UserWarning: Mesh \"legs_1_right_leg_1_thigh_rotate_right_1\" has a coplanar face with more than 20 vertices. This may lead to performance issues and inaccuracies in collision detection. Consider decimating the mesh.\n",
      "  warnings.warn(\n",
      "/Users/charleszhang/miniforge3/envs/rl/lib/python3.11/site-packages/mujoco/mjx/_src/mesh.py:207: UserWarning: Mesh \"legs_1_right_leg_1_x10_2_outer_1\" has a coplanar face with more than 20 vertices. This may lead to performance issues and inaccuracies in collision detection. Consider decimating the mesh.\n",
      "  warnings.warn(\n",
      "/Users/charleszhang/miniforge3/envs/rl/lib/python3.11/site-packages/mujoco/mjx/_src/mesh.py:207: UserWarning: Mesh \"legs_1_right_leg_1_x10_2_pcb_1\" has a coplanar face with more than 20 vertices. This may lead to performance issues and inaccuracies in collision detection. Consider decimating the mesh.\n",
      "  warnings.warn(\n",
      "/Users/charleszhang/miniforge3/envs/rl/lib/python3.11/site-packages/mujoco/mjx/_src/mesh.py:207: UserWarning: Mesh \"legs_1_right_leg_1_x10_2_inner_1\" has a coplanar face with more than 20 vertices. This may lead to performance issues and inaccuracies in collision detection. Consider decimating the mesh.\n",
      "  warnings.warn(\n",
      "/Users/charleszhang/miniforge3/envs/rl/lib/python3.11/site-packages/mujoco/mjx/_src/mesh.py:207: UserWarning: Mesh \"legs_1_right_leg_1_belt_thigh_right_1\" has a coplanar face with more than 20 vertices. This may lead to performance issues and inaccuracies in collision detection. Consider decimating the mesh.\n",
      "  warnings.warn(\n",
      "/Users/charleszhang/miniforge3/envs/rl/lib/python3.11/site-packages/mujoco/mjx/_src/mesh.py:207: UserWarning: Mesh \"legs_1_right_leg_1_x10_1_outer_1\" has a coplanar face with more than 20 vertices. This may lead to performance issues and inaccuracies in collision detection. Consider decimating the mesh.\n",
      "  warnings.warn(\n",
      "/Users/charleszhang/miniforge3/envs/rl/lib/python3.11/site-packages/mujoco/mjx/_src/mesh.py:207: UserWarning: Mesh \"legs_1_right_leg_1_thigh_htd_5mm_44t_pulley_1\" has a coplanar face with more than 20 vertices. This may lead to performance issues and inaccuracies in collision detection. Consider decimating the mesh.\n",
      "  warnings.warn(\n",
      "/Users/charleszhang/miniforge3/envs/rl/lib/python3.11/site-packages/mujoco/mjx/_src/mesh.py:207: UserWarning: Mesh \"legs_1_right_leg_1_x6_1_outer_1\" has a coplanar face with more than 20 vertices. This may lead to performance issues and inaccuracies in collision detection. Consider decimating the mesh.\n",
      "  warnings.warn(\n",
      "/Users/charleszhang/miniforge3/envs/rl/lib/python3.11/site-packages/mujoco/mjx/_src/mesh.py:207: UserWarning: Mesh \"legs_1_right_leg_1_x6_1_pcb_1\" has a coplanar face with more than 20 vertices. This may lead to performance issues and inaccuracies in collision detection. Consider decimating the mesh.\n",
      "  warnings.warn(\n",
      "/Users/charleszhang/miniforge3/envs/rl/lib/python3.11/site-packages/mujoco/mjx/_src/mesh.py:207: UserWarning: Mesh \"legs_1_right_leg_1_x6_1_inner_1\" has a coplanar face with more than 20 vertices. This may lead to performance issues and inaccuracies in collision detection. Consider decimating the mesh.\n",
      "  warnings.warn(\n",
      "/Users/charleszhang/miniforge3/envs/rl/lib/python3.11/site-packages/mujoco/mjx/_src/mesh.py:207: UserWarning: Mesh \"legs_1_right_leg_1_calf_pulley_1\" has a coplanar face with more than 20 vertices. This may lead to performance issues and inaccuracies in collision detection. Consider decimating the mesh.\n",
      "  warnings.warn(\n",
      "/Users/charleszhang/miniforge3/envs/rl/lib/python3.11/site-packages/mujoco/mjx/_src/mesh.py:207: UserWarning: Mesh \"legs_1_right_leg_1_ankle_pulley_1\" has a coplanar face with more than 20 vertices. This may lead to performance issues and inaccuracies in collision detection. Consider decimating the mesh.\n",
      "  warnings.warn(\n",
      "/Users/charleszhang/miniforge3/envs/rl/lib/python3.11/site-packages/mujoco/mjx/_src/mesh.py:207: UserWarning: Mesh \"legs_1_right_leg_1_ankle_1\" has a coplanar face with more than 20 vertices. This may lead to performance issues and inaccuracies in collision detection. Consider decimating the mesh.\n",
      "  warnings.warn(\n",
      "/Users/charleszhang/miniforge3/envs/rl/lib/python3.11/site-packages/mujoco/mjx/_src/mesh.py:207: UserWarning: Mesh \"legs_1_right_leg_1_x4_1_inner_1\" has a coplanar face with more than 20 vertices. This may lead to performance issues and inaccuracies in collision detection. Consider decimating the mesh.\n",
      "  warnings.warn(\n",
      "/Users/charleszhang/miniforge3/envs/rl/lib/python3.11/site-packages/mujoco/mjx/_src/mesh.py:207: UserWarning: Mesh \"legs_1_right_leg_1_x4_1_outer_1\" has a coplanar face with more than 20 vertices. This may lead to performance issues and inaccuracies in collision detection. Consider decimating the mesh.\n",
      "  warnings.warn(\n",
      "/Users/charleszhang/miniforge3/envs/rl/lib/python3.11/site-packages/mujoco/mjx/_src/mesh.py:207: UserWarning: Mesh \"legs_1_right_leg_1_x4_1_pcb_1\" has a coplanar face with more than 20 vertices. This may lead to performance issues and inaccuracies in collision detection. Consider decimating the mesh.\n",
      "  warnings.warn(\n",
      "/Users/charleszhang/miniforge3/envs/rl/lib/python3.11/site-packages/mujoco/mjx/_src/mesh.py:207: UserWarning: Mesh \"legs_1_right_leg_1_foot_1\" has a coplanar face with more than 20 vertices. This may lead to performance issues and inaccuracies in collision detection. Consider decimating the mesh.\n",
      "  warnings.warn(\n",
      "/Users/charleszhang/miniforge3/envs/rl/lib/python3.11/site-packages/mujoco/mjx/_src/mesh.py:207: UserWarning: Mesh \"legs_1_right_leg_1_rubber_1\" has a coplanar face with more than 20 vertices. This may lead to performance issues and inaccuracies in collision detection. Consider decimating the mesh.\n",
      "  warnings.warn(\n",
      "/Users/charleszhang/miniforge3/envs/rl/lib/python3.11/site-packages/mujoco/mjx/_src/mesh.py:207: UserWarning: Mesh \"legs_1_left_leg_1_hip_rotate_1\" has a coplanar face with more than 20 vertices. This may lead to performance issues and inaccuracies in collision detection. Consider decimating the mesh.\n",
      "  warnings.warn(\n",
      "/Users/charleszhang/miniforge3/envs/rl/lib/python3.11/site-packages/mujoco/mjx/_src/mesh.py:207: UserWarning: Mesh \"legs_1_left_leg_1_x8_1_outer_1\" has a coplanar face with more than 20 vertices. This may lead to performance issues and inaccuracies in collision detection. Consider decimating the mesh.\n",
      "  warnings.warn(\n",
      "/Users/charleszhang/miniforge3/envs/rl/lib/python3.11/site-packages/mujoco/mjx/_src/mesh.py:207: UserWarning: Mesh \"legs_1_left_leg_1_thigh_rotate_left_1\" has a coplanar face with more than 20 vertices. This may lead to performance issues and inaccuracies in collision detection. Consider decimating the mesh.\n",
      "  warnings.warn(\n",
      "/Users/charleszhang/miniforge3/envs/rl/lib/python3.11/site-packages/mujoco/mjx/_src/mesh.py:207: UserWarning: Mesh \"legs_1_left_leg_1_x10_1_outer_1\" has a coplanar face with more than 20 vertices. This may lead to performance issues and inaccuracies in collision detection. Consider decimating the mesh.\n",
      "  warnings.warn(\n",
      "/Users/charleszhang/miniforge3/envs/rl/lib/python3.11/site-packages/mujoco/mjx/_src/mesh.py:207: UserWarning: Mesh \"legs_1_left_leg_1_belt_thigh_left_1\" has a coplanar face with more than 20 vertices. This may lead to performance issues and inaccuracies in collision detection. Consider decimating the mesh.\n",
      "  warnings.warn(\n",
      "/Users/charleszhang/miniforge3/envs/rl/lib/python3.11/site-packages/mujoco/mjx/_src/mesh.py:207: UserWarning: Mesh \"legs_1_left_leg_1_x10_2_outer_1\" has a coplanar face with more than 20 vertices. This may lead to performance issues and inaccuracies in collision detection. Consider decimating the mesh.\n",
      "  warnings.warn(\n",
      "/Users/charleszhang/miniforge3/envs/rl/lib/python3.11/site-packages/mujoco/mjx/_src/mesh.py:207: UserWarning: Mesh \"legs_1_left_leg_1_thigh_htd_5mm_44t_pulley_1\" has a coplanar face with more than 20 vertices. This may lead to performance issues and inaccuracies in collision detection. Consider decimating the mesh.\n",
      "  warnings.warn(\n",
      "/Users/charleszhang/miniforge3/envs/rl/lib/python3.11/site-packages/mujoco/mjx/_src/mesh.py:207: UserWarning: Mesh \"legs_1_left_leg_1_x6_1_outer_1\" has a coplanar face with more than 20 vertices. This may lead to performance issues and inaccuracies in collision detection. Consider decimating the mesh.\n",
      "  warnings.warn(\n",
      "/Users/charleszhang/miniforge3/envs/rl/lib/python3.11/site-packages/mujoco/mjx/_src/mesh.py:207: UserWarning: Mesh \"legs_1_left_leg_1_ankle_pulley_1\" has a coplanar face with more than 20 vertices. This may lead to performance issues and inaccuracies in collision detection. Consider decimating the mesh.\n",
      "  warnings.warn(\n",
      "/Users/charleszhang/miniforge3/envs/rl/lib/python3.11/site-packages/mujoco/mjx/_src/mesh.py:207: UserWarning: Mesh \"legs_1_left_leg_1_calf_pulley_1\" has a coplanar face with more than 20 vertices. This may lead to performance issues and inaccuracies in collision detection. Consider decimating the mesh.\n",
      "  warnings.warn(\n"
     ]
    }
   ],
   "source": [
    "mjx_model = mjx.put_model(mj_model)"
   ]
  },
  {
   "cell_type": "code",
   "execution_count": null,
   "metadata": {},
   "outputs": [],
   "source": []
  }
 ],
 "metadata": {
  "kernelspec": {
   "display_name": "rl",
   "language": "python",
   "name": "python3"
  },
  "language_info": {
   "codemirror_mode": {
    "name": "ipython",
    "version": 3
   },
   "file_extension": ".py",
   "mimetype": "text/x-python",
   "name": "python",
   "nbconvert_exporter": "python",
   "pygments_lexer": "ipython3",
   "version": "3.11.8"
  }
 },
 "nbformat": 4,
 "nbformat_minor": 2
}
